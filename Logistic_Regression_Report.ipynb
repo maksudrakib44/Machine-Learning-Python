{
  "nbformat": 4,
  "nbformat_minor": 0,
  "metadata": {
    "colab": {
      "provenance": [],
      "authorship_tag": "ABX9TyOoYxU1eVUl683LZ57Vhdeg",
      "include_colab_link": true
    },
    "kernelspec": {
      "name": "python3",
      "display_name": "Python 3"
    },
    "language_info": {
      "name": "python"
    }
  },
  "cells": [
    {
      "cell_type": "markdown",
      "metadata": {
        "id": "view-in-github",
        "colab_type": "text"
      },
      "source": [
        "<a href=\"https://colab.research.google.com/github/maksudrakib44/Machine-Learning-Python/blob/main/Logistic_Regression_Report.ipynb\" target=\"_parent\"><img src=\"https://colab.research.google.com/assets/colab-badge.svg\" alt=\"Open In Colab\"/></a>"
      ]
    },
    {
      "cell_type": "markdown",
      "source": [
        "**TITLE OF THE LAB REPORT:**\n",
        "\n",
        "Logistic Regression (From Scratch and Scikit-learn)."
      ],
      "metadata": {
        "id": "GMrKVkzZlOhe"
      }
    },
    {
      "cell_type": "markdown",
      "source": [
        "**OBJECTIVES / AIM:**\n",
        "\n",
        "*   To implement logistic regression from scratch without using any ML library.\n",
        "*   To compare custom implementation with Scikit-learn logistic regression.\n",
        "\n",
        "*  To evaluate model performance using all features vs using only Sepal Length and Petal Width.\n"
      ],
      "metadata": {
        "id": "adMEubAr8wxI"
      }
    },
    {
      "cell_type": "markdown",
      "source": [
        "**PROCEDURE / DESIGN / ALGORITHM:**\n",
        "\n",
        "**Program 1:** Implement logistic regression from scratch (i.e., without using any machine learning library) and compare the performance with the one of scikit-learn.\n",
        "\n",
        "\n",
        "1.   Load the Iris dataset.\n",
        "2.   Convert it to a binary classification problem (Setosa vs others).\n",
        "\n",
        "3.   Implement logistic regression from scratch:\n",
        "\n",
        "\n",
        "\n",
        "*   Apply sigmoid function.\n",
        "*   Define binary cross-entropy cost function.\n",
        "*   Use gradient descent for optimization.\n",
        "\n",
        "4.   Compare model accuracy with Scikit-learn's LogisticRegression.\n",
        "\n",
        "\n",
        "\n",
        "\n",
        "**Program 2:** Evaluate the model performance (previously developed) using Sepal Length vs Petal Width only.\n",
        "\n",
        "1.   Use only Sepal Length and Petal Width features.\n",
        "2.   Train and evaluate both custom and Scikit-learn models.\n"
      ],
      "metadata": {
        "id": "ScwzqYqCeytz"
      }
    },
    {
      "cell_type": "markdown",
      "source": [
        "**IMPLEMENTATION**"
      ],
      "metadata": {
        "id": "NkgmpDg7ggBS"
      }
    },
    {
      "cell_type": "markdown",
      "source": [
        "**Program 01:** Implementing Logistic Regression from Scratch and Comparing with Scikit-Learn"
      ],
      "metadata": {
        "id": "Ze4JiPIagoXK"
      }
    },
    {
      "cell_type": "code",
      "execution_count": null,
      "metadata": {
        "id": "XngMedf8niGH"
      },
      "outputs": [],
      "source": [
        "import numpy as np\n",
        "import matplotlib.pyplot as plt\n",
        "from sklearn.datasets import load_iris\n",
        "from sklearn.model_selection import train_test_split\n",
        "from sklearn.linear_model import LogisticRegression\n",
        "from sklearn.metrics import accuracy_score"
      ]
    },
    {
      "cell_type": "code",
      "source": [
        "iris = load_iris()\n",
        "X = iris.data\n",
        "y = (iris.target == 0).astype(int)"
      ],
      "metadata": {
        "id": "03U6SnXopXwP"
      },
      "execution_count": null,
      "outputs": []
    },
    {
      "cell_type": "markdown",
      "source": [
        "**Load Iris dataset**\n",
        "\n",
        "Convert to binary classification (Setosa=1, Others=0)\n",
        "\n",
        "Split data into 70% train, 30% test"
      ],
      "metadata": {
        "id": "uqUjShD3hwzc"
      }
    },
    {
      "cell_type": "code",
      "source": [
        "X_train, X_test, y_train, y_test = train_test_split(X, y, test_size=0.3, random_state=42)"
      ],
      "metadata": {
        "id": "cJRL2ItbpmHB"
      },
      "execution_count": null,
      "outputs": []
    },
    {
      "cell_type": "code",
      "source": [
        "def feature_scaling(X):\n",
        "    mean = np.mean(X, axis=0)\n",
        "    std = np.std(X, axis=0)\n",
        "    return (X - mean) / std, mean, std"
      ],
      "metadata": {
        "id": "RgmJFIqFpo84"
      },
      "execution_count": null,
      "outputs": []
    },
    {
      "cell_type": "code",
      "source": [
        "X_train_scaled, mean, std = feature_scaling(X_train)\n",
        "X_test_scaled = (X_test - mean) / std"
      ],
      "metadata": {
        "id": "N4FKa_2oprq-"
      },
      "execution_count": null,
      "outputs": []
    },
    {
      "cell_type": "code",
      "source": [
        "X_train_scaled = np.c_[np.ones((X_train_scaled.shape[0], 1)), X_train_scaled]\n",
        "X_test_scaled = np.c_[np.ones((X_test_scaled.shape[0], 1)), X_test_scaled]\n"
      ],
      "metadata": {
        "id": "9ZgEAfGqpufX"
      },
      "execution_count": null,
      "outputs": []
    },
    {
      "cell_type": "markdown",
      "source": [
        "**Standardize features and add intercept term**"
      ],
      "metadata": {
        "id": "2bQxadR1h_T9"
      }
    },
    {
      "cell_type": "code",
      "source": [
        "def sigmoid(z):\n",
        "    return 1 / (1 + np.exp(-z))"
      ],
      "metadata": {
        "id": "cK4cE9XUpx3b"
      },
      "execution_count": null,
      "outputs": []
    },
    {
      "cell_type": "code",
      "source": [
        "def compute_cost(X, y, theta):\n",
        "    m = len(y)\n",
        "    h = sigmoid(X.dot(theta))\n",
        "    cost = (-y * np.log(h) - (1 - y) * np.log(1 - h)).mean()\n",
        "    return cost"
      ],
      "metadata": {
        "id": "adxAXaDIp0sA"
      },
      "execution_count": null,
      "outputs": []
    },
    {
      "cell_type": "markdown",
      "source": [
        "Here, two functions.\n",
        "\n",
        "Sigmoid Function:\n",
        "\n",
        "Maps any input to (0,1) range (probability)\n",
        "\n",
        "Cost Function:\n",
        "\n",
        "1. Binary cross-entropy loss\n",
        "\n",
        "2. Measures difference between predictions and true labels"
      ],
      "metadata": {
        "id": "1LiFikrXiI8m"
      }
    },
    {
      "cell_type": "code",
      "source": [
        "def gradient_descent(X, y, theta, alpha, iterations):\n",
        "    m = len(y)\n",
        "    cost_history = []\n",
        "\n",
        "    for _ in range(iterations):\n",
        "        h = sigmoid(X.dot(theta))\n",
        "        gradient = X.T.dot(h - y) / m\n",
        "        theta -= alpha * gradient\n",
        "        cost = compute_cost(X, y, theta)\n",
        "        cost_history.append(cost)\n",
        "\n",
        "    return theta, cost_history"
      ],
      "metadata": {
        "id": "NQM30VNqp30a"
      },
      "execution_count": null,
      "outputs": []
    },
    {
      "cell_type": "code",
      "source": [
        "theta = np.zeros(X_train_scaled.shape[1])\n",
        "alpha = 0.1\n",
        "iterations = 1000"
      ],
      "metadata": {
        "id": "GXcd4RG0p7Rb"
      },
      "execution_count": null,
      "outputs": []
    },
    {
      "cell_type": "markdown",
      "source": [
        "Optimized model parameters (θ)"
      ],
      "metadata": {
        "id": "BVs-1lJzigw3"
      }
    },
    {
      "cell_type": "code",
      "source": [
        "theta, cost_history = gradient_descent(X_train_scaled, y_train, theta, alpha, iterations)"
      ],
      "metadata": {
        "id": "DQDXyKJBqRcF"
      },
      "execution_count": null,
      "outputs": []
    },
    {
      "cell_type": "code",
      "source": [
        "plt.plot(range(iterations), cost_history)\n",
        "plt.xlabel('Iterations')\n",
        "plt.ylabel('Cost')\n",
        "plt.title('Cost Function Over Iterations')\n",
        "plt.show()"
      ],
      "metadata": {
        "colab": {
          "base_uri": "https://localhost:8080/",
          "height": 472
        },
        "id": "7dolrdYiqVZ_",
        "outputId": "342ff1e7-33ce-4584-c663-d8704ca483fa"
      },
      "execution_count": null,
      "outputs": [
        {
          "output_type": "display_data",
          "data": {
            "text/plain": [
              "<Figure size 640x480 with 1 Axes>"
            ],
            "image/png": "[encoded data removed]"
          },
          "metadata": {}
        }
      ]
    },
    {
      "cell_type": "markdown",
      "source": [
        "Train model using gradient descent\n",
        "\n",
        "Plot cost vs iterations.\n",
        "\n",
        "X-axis: Iteration count\n",
        "\n",
        "Y-axis: Cost value"
      ],
      "metadata": {
        "id": "wIMkYAiFitdl"
      }
    },
    {
      "cell_type": "code",
      "source": [
        "def predict(X, theta, threshold=0.5):\n",
        "    return (sigmoid(X.dot(theta)) >= threshold).astype(int)"
      ],
      "metadata": {
        "id": "YB8bYdNcqYku"
      },
      "execution_count": null,
      "outputs": []
    },
    {
      "cell_type": "code",
      "source": [
        "y_pred_scratch = predict(X_test_scaled, theta)"
      ],
      "metadata": {
        "id": "-5lWF65E3H23"
      },
      "execution_count": null,
      "outputs": []
    },
    {
      "cell_type": "code",
      "source": [
        "accuracy_scratch = accuracy_score(y_test, y_pred_scratch)\n",
        "print(f\"Scratch Implementation Accuracy: {accuracy_scratch:.4f}\")"
      ],
      "metadata": {
        "colab": {
          "base_uri": "https://localhost:8080/"
        },
        "id": "sng-kIJI3KxN",
        "outputId": "26099139-f6e9-4ddc-9db6-bf227d80cc73"
      },
      "execution_count": null,
      "outputs": [
        {
          "output_type": "stream",
          "name": "stdout",
          "text": [
            "Scratch Implementation Accuracy: 1.0000\n"
          ]
        }
      ]
    },
    {
      "cell_type": "markdown",
      "source": [
        "Predictions using learned θ\n",
        "\n",
        "Convert probabilities to class labels (threshold=0.5)\n",
        "\n",
        "Calculate accuracy on test set"
      ],
      "metadata": {
        "id": "efztgy5Bi85f"
      }
    },
    {
      "cell_type": "code",
      "source": [
        "log_reg = LogisticRegression()\n",
        "log_reg.fit(X_train_scaled, y_train)\n",
        "y_pred_sklearn = log_reg.predict(X_test_scaled)\n",
        "accuracy_sklearn = accuracy_score(y_test, y_pred_sklearn)\n",
        "print(f\"Scikit-learn Implementation Accuracy: {accuracy_sklearn:.4f}\")"
      ],
      "metadata": {
        "colab": {
          "base_uri": "https://localhost:8080/"
        },
        "id": "4x_4bk6i3Ss-",
        "outputId": "0bd72ebd-d48e-4af7-dce8-f7a1cee51d14"
      },
      "execution_count": null,
      "outputs": [
        {
          "output_type": "stream",
          "name": "stdout",
          "text": [
            "Scikit-learn Implementation Accuracy: 1.0000\n"
          ]
        }
      ]
    },
    {
      "cell_type": "markdown",
      "source": [
        "Train scikit-learn's Logistic Regression and compare accuracies and coefficients."
      ],
      "metadata": {
        "id": "692-TmtMjOAP"
      }
    },
    {
      "cell_type": "code",
      "source": [
        "print(\"\\nCoefficients Comparison:\")\n",
        "print(f\"Scratch implementation: {theta}\")\n",
        "print(f\"Scikit-learn: {np.append(log_reg.intercept_, log_reg.coef_[0][1:])}\")"
      ],
      "metadata": {
        "colab": {
          "base_uri": "https://localhost:8080/"
        },
        "id": "4OJjzy6b3X8-",
        "outputId": "dfe10f73-5328-4576-a976-efd8aae796cc"
      },
      "execution_count": null,
      "outputs": [
        {
          "output_type": "stream",
          "name": "stdout",
          "text": [
            "\n",
            "Coefficients Comparison:\n",
            "Scratch implementation: [-2.3009639  -0.97991641  1.81475332 -2.02930053 -1.81938108]\n",
            "Scikit-learn: [-2.69460606 -0.95891427  1.11542842 -1.62633075 -1.4791807 ]\n"
          ]
        }
      ]
    },
    {
      "cell_type": "markdown",
      "source": [
        "Program 2: Evaluating Model Performance Using Only Sepal Length vs Petal Width"
      ],
      "metadata": {
        "id": "yKZUhLkC4kp8"
      }
    },
    {
      "cell_type": "code",
      "source": [
        "X_sepal_petal = iris.data[:, [0, 3]]\n",
        "y = (iris.target == 0).astype(int)\n"
      ],
      "metadata": {
        "id": "D4uOBjxr4pPz"
      },
      "execution_count": null,
      "outputs": []
    },
    {
      "cell_type": "markdown",
      "source": [
        "Reduce the dataset to only 2 features for simpler visualization and analysis."
      ],
      "metadata": {
        "id": "3k0uUwtTj9vW"
      }
    },
    {
      "cell_type": "code",
      "source": [
        "X_train, X_test, y_train, y_test = train_test_split(X_sepal_petal, y, test_size=0.3, random_state=42)"
      ],
      "metadata": {
        "id": "d3XTCDQj5dic"
      },
      "execution_count": null,
      "outputs": []
    },
    {
      "cell_type": "code",
      "source": [
        "X_train_scaled, mean, std = feature_scaling(X_train)\n",
        "X_test_scaled = (X_test - mean) / std"
      ],
      "metadata": {
        "id": "LjQZBH0V5rRA"
      },
      "execution_count": null,
      "outputs": []
    },
    {
      "cell_type": "code",
      "source": [
        "X_train_scaled = np.c_[np.ones((X_train_scaled.shape[0], 1)), X_train_scaled]\n",
        "X_test_scaled = np.c_[np.ones((X_test_scaled.shape[0], 1)), X_test_scaled]"
      ],
      "metadata": {
        "id": "BStrC6L457wk"
      },
      "execution_count": null,
      "outputs": []
    },
    {
      "cell_type": "markdown",
      "source": [
        "Standardize features and add a bias term (intercept)."
      ],
      "metadata": {
        "id": "HLGgZIGRkLgb"
      }
    },
    {
      "cell_type": "code",
      "source": [
        "theta_simple = np.zeros(X_train_scaled.shape[1])\n",
        "theta_simple, _ = gradient_descent(X_train_scaled, y_train, theta_simple, alpha, iterations)"
      ],
      "metadata": {
        "id": "y_UIrnED6PHM"
      },
      "execution_count": null,
      "outputs": []
    },
    {
      "cell_type": "markdown",
      "source": [
        "Train Scratch Model"
      ],
      "metadata": {
        "id": "xdKocLqWkQ6Y"
      }
    },
    {
      "cell_type": "code",
      "source": [
        "y_pred_scratch_simple = predict(X_test_scaled, theta_simple)\n",
        "accuracy_scratch_simple = accuracy_score(y_test, y_pred_scratch_simple)\n",
        "print(f\"Scratch Implementation Accuracy (Sepal Length & Petal Width only): {accuracy_scratch_simple:.4f}\")"
      ],
      "metadata": {
        "colab": {
          "base_uri": "https://localhost:8080/"
        },
        "id": "mQwOoQQH6p8M",
        "outputId": "4bb07f6d-e8e7-41f4-e3f9-d20a61e9eb36"
      },
      "execution_count": null,
      "outputs": [
        {
          "output_type": "stream",
          "name": "stdout",
          "text": [
            "Scratch Implementation Accuracy (Sepal Length & Petal Width only): 1.0000\n"
          ]
        }
      ]
    },
    {
      "cell_type": "code",
      "source": [
        "log_reg_simple = LogisticRegression()\n",
        "log_reg_simple.fit(X_train_scaled, y_train)\n",
        "y_pred_sklearn_simple = log_reg_simple.predict(X_test_scaled)\n",
        "accuracy_sklearn_simple = accuracy_score(y_test, y_pred_sklearn_simple)\n",
        "print(f\"Scikit-learn Accuracy (Sepal Length & Petal Width only): {accuracy_sklearn_simple:.4f}\")"
      ],
      "metadata": {
        "colab": {
          "base_uri": "https://localhost:8080/"
        },
        "id": "9kM-Ht5-67z_",
        "outputId": "96fe6afe-0fde-4a34-b9c8-80985f4f3c46"
      },
      "execution_count": null,
      "outputs": [
        {
          "output_type": "stream",
          "name": "stdout",
          "text": [
            "Scikit-learn Accuracy (Sepal Length & Petal Width only): 1.0000\n"
          ]
        }
      ]
    },
    {
      "cell_type": "markdown",
      "source": [
        "Train Scikit-Learn Model"
      ],
      "metadata": {
        "id": "7CnGrNvqkaR_"
      }
    },
    {
      "cell_type": "code",
      "source": [
        "\n",
        "def plot_decision_boundary(X, y, theta):\n",
        "    plt.figure(figsize=(10, 6))\n",
        "\n",
        "\n",
        "    plt.scatter(X[y == 0][:, 1], X[y == 0][:, 2], label='Not Setosa', alpha=0.7)\n",
        "    plt.scatter(X[y == 1][:, 1], X[y == 1][:, 2], label='Setosa', alpha=0.7)\n",
        "\n",
        "\n",
        "    x1_min, x1_max = X[:, 1].min(), X[:, 1].max()\n",
        "    x2_min, x2_max = X[:, 2].min(), X[:, 2].max()\n",
        "    xx1, xx2 = np.meshgrid(np.linspace(x1_min, x1_max, 100),\n",
        "               np.linspace(x2_min, x2_max, 100))\n",
        "    grid = np.c_[np.ones(xx1.ravel().shape[0]), xx1.ravel(), xx2.ravel()]\n",
        "    probs = sigmoid(grid.dot(theta)).reshape(xx1.shape)\n",
        "    plt.contour(xx1, xx2, probs, levels=[0.5], linewidths=2, colors='red')\n",
        "\n",
        "    plt.xlabel('Sepal Length (scaled)')\n",
        "    plt.ylabel('Petal Width (scaled)')\n",
        "    plt.title('Decision Boundary for Logistic Regression')\n",
        "    plt.legend()\n",
        "    plt.show()\n",
        "\n",
        "plot_decision_boundary(X_train_scaled, y_train, theta_simple)"
      ],
      "metadata": {
        "colab": {
          "base_uri": "https://localhost:8080/",
          "height": 564
        },
        "id": "b9-d8Gpv7Fqt",
        "outputId": "b3baf9e1-abd1-48b5-ed73-d450d8c94e84"
      },
      "execution_count": null,
      "outputs": [
        {
          "output_type": "display_data",
          "data": {
            "text/plain": [
              "<Figure size 1000x600 with 1 Axes>"
            ],
            "image/png": "[encoded data removed]"
          },
          "metadata": {}
        }
      ]
    },
    {
      "cell_type": "markdown",
      "source": [
        "Decision Boundary Visualization\n",
        "\n",
        "1. Scatter Plot: Shows actual data points (Setosa vs non-Setosa).\n",
        "\n",
        "2. Mesh Grid: Creates a grid of points covering the feature space.\n",
        "\n",
        "3. Probability Contour: Predicts probabilities for each grid point.\n",
        "\n",
        "4. Decision Boundary: Red line where P(Setosa)=0.5 (model's classification threshold)."
      ],
      "metadata": {
        "id": "uabNXwJQkjcE"
      }
    },
    {
      "cell_type": "markdown",
      "source": [
        "**ANALYSIS AND DISCUSSION:**\n",
        "\n",
        "1. Logistic regression from scratch successfully predicted binary classes.\n",
        "\n",
        "2. Accuracy of scratch model was close to Scikit-learn, verifying implementation correctness.\n",
        "\n",
        "3. Using all 4 features gave higher accuracy than just 2 features.\n",
        "\n",
        "4. Scratch model used manual gradient descent while Scikit-learn used optimized solvers.\n",
        "\n",
        "5. Simpler feature sets may reduce performance but are helpful for visualization.\n",
        "\n"
      ],
      "metadata": {
        "id": "EmCkehHQ88Ne"
      }
    },
    {
      "cell_type": "markdown",
      "source": [
        "**SUMMARY:**\n",
        "\n",
        "This lab focused on implementing logistic regression manually and comparing it with a built-in ML library. Both full and reduced feature sets were tested. The exercise provided a deeper understanding of classification and optimization using gradient descent, preparing us for advanced ML tasks."
      ],
      "metadata": {
        "id": "gArkyCqV9Ret"
      }
    },
    {
      "cell_type": "markdown",
      "source": [
        "**REFERENCES:**\n",
        "\n",
        "Lab Manual 04: Logistic Regression\n",
        "\n",
        "https://scikit-learn.org/stable/modules/generated/sklearn.linear_model.LogisticRegression.html\n",
        "\n"
      ],
      "metadata": {
        "id": "AaB5Bf5Mm_O4"
      }
    },
    {
      "cell_type": "code",
      "source": [],
      "metadata": {
        "id": "XlroCglXnD3i"
      },
      "execution_count": null,
      "outputs": []
    }
  ]
}